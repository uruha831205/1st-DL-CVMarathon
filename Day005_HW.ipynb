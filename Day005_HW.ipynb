{
 "cells": [
  {
   "cell_type": "code",
   "execution_count": 94,
   "metadata": {},
   "outputs": [],
   "source": [
    "import requests\n",
    "r = requests.get('https://www.dcard.tw/_api/forums/pet/posts?popular=true')\n",
    "response = r.text"
   ]
  },
  {
   "cell_type": "code",
   "execution_count": 95,
   "metadata": {},
   "outputs": [],
   "source": [
    "import json\n",
    "json.loads(response)\n",
    "data = json.loads(response)"
   ]
  },
  {
   "cell_type": "code",
   "execution_count": 96,
   "metadata": {},
   "outputs": [
    {
     "name": "stdout",
     "output_type": "stream",
     "text": [
      "共筆數: 30\n"
     ]
    }
   ],
   "source": [
    "print(\"共筆數:\",len(data))"
   ]
  },
  {
   "cell_type": "code",
   "execution_count": 97,
   "metadata": {},
   "outputs": [
    {
     "name": "stdout",
     "output_type": "stream",
     "text": [
      "標題:稀有的暴牙貓Get！ ,貼文時間:2020-05-04T02:58:40.482Z ,留言數:94 ,讚數:2397\n",
      "標題:那你看過90度的尾巴嗎🤣 ,貼文時間:2020-05-03T23:49:58.179Z ,留言數:20 ,讚數:566\n",
      "標題:熱鼠人了😂🐁 ,貼文時間:2020-05-04T14:56:23.070Z ,留言數:2 ,讚數:75\n",
      "標題:鼠如其名的倉鼠 肥仔🐭 ,貼文時間:2020-05-04T14:35:14.784Z ,留言數:9 ,讚數:47\n",
      "標題:我認為親戚不該養寵物 ,貼文時間:2020-05-04T06:25:46.486Z ,留言數:10 ,讚數:34\n",
      "標題:我只是想曬柴 ,貼文時間:2020-05-04T08:16:23.654Z ,留言數:4 ,讚數:29\n",
      "標題:胖橘貓會說話！！！（影/圖） ,貼文時間:2020-05-04T16:21:00.376Z ,留言數:3 ,讚數:25\n",
      "標題:有偶像包袱的貓?! ,貼文時間:2020-05-05T02:54:07.121Z ,留言數:2 ,讚數:23\n",
      "標題:柴柴跟大家say hi ,貼文時間:2020-05-04T12:19:54.257Z ,留言數:1 ,讚數:17\n",
      "標題:貓咪1-2月大 母  雲林縣斗南待領養 ,貼文時間:2020-05-04T05:35:33.205Z ,留言數:4 ,讚數:17\n",
      "標題:快在牆壁貼隻假壁虎😂 ,貼文時間:2020-05-04T12:14:13.911Z ,留言數:2 ,讚數:14\n",
      "標題:該不該養？ ,貼文時間:2020-05-04T06:29:24.569Z ,留言數:27 ,讚數:14\n",
      "標題:不管你在吃什麼我也想吃啦🍔🥗🍕🍿🍰 ,貼文時間:2020-05-05T01:36:16.619Z ,留言數:1 ,讚數:12\n",
      "標題:寶雅寵物零食 ,貼文時間:2020-05-04T11:38:10.639Z ,留言數:4 ,讚數:10\n",
      "標題:募款文 #求安置中途 #救援中 ,貼文時間:2020-05-04T07:24:07.935Z ,留言數:0 ,讚數:9\n",
      "標題:#問 教幼兔用滾珠瓶喝水 ,貼文時間:2020-05-04T07:54:02.832Z ,留言數:8 ,讚數:8\n",
      "標題:台中 勤益附近 有人遺失狗狗嗎? ,貼文時間:2020-05-04T16:05:32.103Z ,留言數:0 ,讚數:7\n",
      "標題:#圖#問 蛇的壽命 ,貼文時間:2020-05-04T05:01:41.518Z ,留言數:3 ,讚數:7\n",
      "標題:寵物美容剃毛順便剃乳頭 ,貼文時間:2020-05-04T12:21:42.295Z ,留言數:4 ,讚數:6\n",
      "標題:求助！貓咪吐了 ,貼文時間:2020-05-04T12:14:25.987Z ,留言數:6 ,讚數:6\n",
      "標題:#走失 有人在興隆大橋遺失一條貴賓嗎？ ,貼文時間:2020-05-04T07:56:40.958Z ,留言數:0 ,讚數:6\n",
      "標題:小貓肚子大 ,貼文時間:2020-05-04T13:36:46.611Z ,留言數:8 ,讚數:5\n",
      "標題:有兔友嗎 來聊聊你們飼養方式 ,貼文時間:2020-05-04T08:11:35.653Z ,留言數:12 ,讚數:5\n",
      "標題:［請益］不知道是英短混虎斑？！ ,貼文時間:2020-05-04T06:34:26.649Z ,留言數:12 ,讚數:5\n",
      "標題:療癒人心的🐱🐱 ,貼文時間:2020-05-05T06:45:25.956Z ,留言數:1 ,讚數:4\n",
      "標題:蓋一棟貓咪樓吧(⁎⁍̴̛ᴗ⁍̴̛⁎) ,貼文時間:2020-05-04T17:10:24.649Z ,留言數:8 ,讚數:4\n",
      "標題:髮油被吃了怎麼辦！！？😱 ,貼文時間:2020-05-04T11:40:24.983Z ,留言數:1 ,讚數:4\n",
      "標題:黃金鼠咬手怎麼解QQ ,貼文時間:2020-05-04T17:30:32.070Z ,留言數:1 ,讚數:3\n",
      "標題:#問 鼠寶眼睛紅腫凸 ,貼文時間:2020-05-04T17:28:39.404Z ,留言數:7 ,讚數:3\n",
      "標題:哈姆太郎🐹💛🏖 ,貼文時間:2020-05-04T17:26:30.832Z ,留言數:1 ,讚數:3\n"
     ]
    }
   ],
   "source": [
    "for i in data:\n",
    "    print(\"標題:\"+i['title'],\",貼文時間:\"+i['createdAt'],\",留言數:\"+str(i['commentCount']),\",讚數:\"+str(i['likeCount']))"
   ]
  },
  {
   "cell_type": "code",
   "execution_count": 98,
   "metadata": {},
   "outputs": [
    {
     "name": "stdout",
     "output_type": "stream",
     "text": [
      "平均留言人數: 8.5\n",
      "平均讚數: 112.16666666666667\n"
     ]
    }
   ],
   "source": [
    "sum_comment = 0\n",
    "comment_count=0\n",
    "sum_like = 0\n",
    "like_count=0\n",
    "for i in data:\n",
    "    comment_count+=1\n",
    "    like_count+=1\n",
    "    sum_comment+=i['commentCount']\n",
    "    sum_like+=i['likeCount']\n",
    "print(\"平均留言人數:\",sum_comment/comment_count)\n",
    "print(\"平均讚數:\",sum_like/like_count)"
   ]
  },
  {
   "cell_type": "code",
   "execution_count": null,
   "metadata": {},
   "outputs": [],
   "source": []
  }
 ],
 "metadata": {
  "kernelspec": {
   "display_name": "Python 3",
   "language": "python",
   "name": "python3"
  },
  "language_info": {
   "codemirror_mode": {
    "name": "ipython",
    "version": 3
   },
   "file_extension": ".py",
   "mimetype": "text/x-python",
   "name": "python",
   "nbconvert_exporter": "python",
   "pygments_lexer": "ipython3",
   "version": "3.7.6"
  }
 },
 "nbformat": 4,
 "nbformat_minor": 4
}
