{
 "cells": [
  {
   "cell_type": "code",
   "execution_count": null,
   "metadata": {},
   "outputs": [],
   "source": [
    "import requests\n",
    "r = requests.get('https://www.zhihu.com/api/v4/questions/55493026/answers')\n",
    "r2 = requests.get('https://www.zhihu.com/api/v4/questions')\n",
    "response = r.text\n",
    "response2 = r2.text\n",
    "\n",
    "\n",
    "#response\n",
    "response2"
   ]
  },
  {
   "cell_type": "code",
   "execution_count": 108,
   "metadata": {},
   "outputs": [
    {
     "name": "stdout",
     "output_type": "stream",
     "text": [
      "**********\n"
     ]
    },
    {
     "data": {
      "text/plain": [
       "'{\"type\":\"question\",\"id\":55493026,\"title\":\"你们都是怎么学 Python 的？\",\"question_type\":\"normal\",\"created\":1486390229,\"updated_time\":1582533957,\"url\":\"https://www.zhihu.com/api/v4/questions/55493026\",\"relationship\":{}}\\n'"
      ]
     },
     "execution_count": 108,
     "metadata": {},
     "output_type": "execute_result"
    }
   ],
   "source": [
    "import requests\n",
    "headers = {'user-agent': 'zero-one'}\n",
    "r = requests.get('https://www.zhihu.com/api/v4/questions/55493026/answers',headers=headers)\n",
    "r2 = requests.get('https://www.zhihu.com/api/v4/questions/55493026',headers=headers)\n",
    "response = r.text\n",
    "response2 = r2.text\n",
    "\n",
    "response\n",
    "print('*'*10)\n",
    "response2"
   ]
  },
  {
   "cell_type": "code",
   "execution_count": 17,
   "metadata": {},
   "outputs": [],
   "source": [
    "import json"
   ]
  },
  {
   "cell_type": "code",
   "execution_count": 18,
   "metadata": {},
   "outputs": [
    {
     "data": {
      "text/plain": [
       "{'data': [{'id': 637938925,\n",
       "   'type': 'answer',\n",
       "   'answer_type': 'normal',\n",
       "   'question': {'type': 'question',\n",
       "    'id': 55493026,\n",
       "    'title': '你们都是怎么学 Python 的？',\n",
       "    'question_type': 'normal',\n",
       "    'created': 1486390229,\n",
       "    'updated_time': 1582533957,\n",
       "    'url': 'https://www.zhihu.com/api/v4/questions/55493026',\n",
       "    'relationship': {}},\n",
       "   'author': {'id': 'e8c4768eaa41e3749f7e8bc5ac6aa74b',\n",
       "    'url_token': 'Lanyuneet',\n",
       "    'name': 'Slumbers',\n",
       "    'avatar_url': 'https://pic2.zhimg.com/v2-f950cfef511d33500177be90030dcd3d_is.jpg',\n",
       "    'avatar_url_template': 'https://pic2.zhimg.com/v2-f950cfef511d33500177be90030dcd3d_{size}.jpg',\n",
       "    'is_org': False,\n",
       "    'type': 'people',\n",
       "    'url': 'https://www.zhihu.com/api/v4/people/e8c4768eaa41e3749f7e8bc5ac6aa74b',\n",
       "    'user_type': 'people',\n",
       "    'headline': '算法工程师',\n",
       "    'badge': [],\n",
       "    'gender': 0,\n",
       "    'is_advertiser': False,\n",
       "    'is_privacy': False},\n",
       "   'url': 'https://www.zhihu.com/api/v4/answers/637938925',\n",
       "   'is_collapsed': False,\n",
       "   'created_time': 1554085028,\n",
       "   'updated_time': 1558451618,\n",
       "   'extras': '',\n",
       "   'is_copyable': True,\n",
       "   'relationship': {'upvoted_followees': []},\n",
       "   'ad_answer': None},\n",
       "  {'id': 683070334,\n",
       "   'type': 'answer',\n",
       "   'answer_type': 'normal',\n",
       "   'question': {'type': 'question',\n",
       "    'id': 55493026,\n",
       "    'title': '你们都是怎么学 Python 的？',\n",
       "    'question_type': 'normal',\n",
       "    'created': 1486390229,\n",
       "    'updated_time': 1582533957,\n",
       "    'url': 'https://www.zhihu.com/api/v4/questions/55493026',\n",
       "    'relationship': {}},\n",
       "   'author': {'id': '36f69162230003d316d0b8a6d8da20ba',\n",
       "    'url_token': 'liang-zi-wei-48',\n",
       "    'name': '量子位',\n",
       "    'avatar_url': 'https://pic4.zhimg.com/v2-ca6e7ffc10a0d10edbae635cee82d007_is.jpg',\n",
       "    'avatar_url_template': 'https://pic4.zhimg.com/v2-ca6e7ffc10a0d10edbae635cee82d007_{size}.jpg',\n",
       "    'is_org': True,\n",
       "    'type': 'people',\n",
       "    'url': 'https://www.zhihu.com/api/v4/people/36f69162230003d316d0b8a6d8da20ba',\n",
       "    'user_type': 'organization',\n",
       "    'headline': '有趣的AI&amp;前沿科技→_→ 公众号：QbitAI',\n",
       "    'badge': [{'type': 'identity', 'description': '已认证的官方帐号', 'topics': []},\n",
       "     {'type': 'best_answerer', 'description': '优秀回答者', 'topics': []}],\n",
       "    'gender': -1,\n",
       "    'is_advertiser': False,\n",
       "    'is_privacy': False},\n",
       "   'url': 'https://www.zhihu.com/api/v4/answers/683070334',\n",
       "   'is_collapsed': False,\n",
       "   'created_time': 1557824412,\n",
       "   'updated_time': 1557824412,\n",
       "   'extras': '',\n",
       "   'is_copyable': True,\n",
       "   'relationship': {'upvoted_followees': []},\n",
       "   'ad_answer': None},\n",
       "  {'id': 1106818911,\n",
       "   'type': 'answer',\n",
       "   'answer_type': 'paid',\n",
       "   'question': {'type': 'question',\n",
       "    'id': 55493026,\n",
       "    'title': '你们都是怎么学 Python 的？',\n",
       "    'question_type': 'normal',\n",
       "    'created': 1486390229,\n",
       "    'updated_time': 1582533957,\n",
       "    'url': 'https://www.zhihu.com/api/v4/questions/55493026',\n",
       "    'relationship': {}},\n",
       "   'author': {'id': '1ab00059f301920f1dae9d92386937e6',\n",
       "    'url_token': 'zhi-hu-ke-tang',\n",
       "    'name': '知乎课堂',\n",
       "    'avatar_url': 'https://pic4.zhimg.com/v2-7e2770be649e098dd01dd69116c2c8d6_is.jpg',\n",
       "    'avatar_url_template': 'https://pic4.zhimg.com/v2-7e2770be649e098dd01dd69116c2c8d6_{size}.jpg',\n",
       "    'is_org': True,\n",
       "    'type': 'people',\n",
       "    'url': 'https://www.zhihu.com/api/v4/people/1ab00059f301920f1dae9d92386937e6',\n",
       "    'user_type': 'organization',\n",
       "    'headline': '欢迎关注公众号：知乎职场圈，每天解锁一个新技能。',\n",
       "    'badge': [{'type': 'identity', 'description': '已认证的官方帐号', 'topics': []}],\n",
       "    'gender': -1,\n",
       "    'is_advertiser': True,\n",
       "    'is_privacy': False},\n",
       "   'url': 'https://www.zhihu.com/api/v4/answers/1106818911',\n",
       "   'is_collapsed': False,\n",
       "   'created_time': 1585227854,\n",
       "   'updated_time': 1585227854,\n",
       "   'extras': '',\n",
       "   'is_copyable': False,\n",
       "   'relationship': {'upvoted_followees': []},\n",
       "   'ad_answer': None},\n",
       "  {'id': 163537026,\n",
       "   'type': 'answer',\n",
       "   'answer_type': 'normal',\n",
       "   'question': {'type': 'question',\n",
       "    'id': 55493026,\n",
       "    'title': '你们都是怎么学 Python 的？',\n",
       "    'question_type': 'normal',\n",
       "    'created': 1486390229,\n",
       "    'updated_time': 1582533957,\n",
       "    'url': 'https://www.zhihu.com/api/v4/questions/55493026',\n",
       "    'relationship': {}},\n",
       "   'author': {'id': 'eaf435b228ce0b038a4afe8203f59b49',\n",
       "    'url_token': 'sgai',\n",
       "    'name': '路人甲',\n",
       "    'avatar_url': 'https://pic3.zhimg.com/958a18f3216805bed269d158fb83325a_is.jpg',\n",
       "    'avatar_url_template': 'https://pic3.zhimg.com/958a18f3216805bed269d158fb83325a_{size}.jpg',\n",
       "    'is_org': False,\n",
       "    'type': 'people',\n",
       "    'url': 'https://www.zhihu.com/api/v4/people/eaf435b228ce0b038a4afe8203f59b49',\n",
       "    'user_type': 'people',\n",
       "    'headline': '微信公众号：路人甲TM，微信：thisnozy',\n",
       "    'badge': [],\n",
       "    'gender': 1,\n",
       "    'is_advertiser': False,\n",
       "    'is_privacy': False},\n",
       "   'url': 'https://www.zhihu.com/api/v4/answers/163537026',\n",
       "   'is_collapsed': False,\n",
       "   'created_time': 1493693113,\n",
       "   'updated_time': 1579138388,\n",
       "   'extras': '',\n",
       "   'is_copyable': True,\n",
       "   'relationship': {'upvoted_followees': []},\n",
       "   'ad_answer': None},\n",
       "  {'id': 873825546,\n",
       "   'type': 'answer',\n",
       "   'answer_type': 'normal',\n",
       "   'question': {'type': 'question',\n",
       "    'id': 55493026,\n",
       "    'title': '你们都是怎么学 Python 的？',\n",
       "    'question_type': 'normal',\n",
       "    'created': 1486390229,\n",
       "    'updated_time': 1582533957,\n",
       "    'url': 'https://www.zhihu.com/api/v4/questions/55493026',\n",
       "    'relationship': {}},\n",
       "   'author': {'id': '4d1c2c77bc7431c2a6006d154198e8b9',\n",
       "    'url_token': 'ji-de-yao-xing-fu',\n",
       "    'name': '痴海',\n",
       "    'avatar_url': 'https://pic3.zhimg.com/v2-f9642b41b7729c029c6c7978c4c019e8_is.jpg',\n",
       "    'avatar_url_template': 'https://pic3.zhimg.com/v2-f9642b41b7729c029c6c7978c4c019e8_{size}.jpg',\n",
       "    'is_org': False,\n",
       "    'type': 'people',\n",
       "    'url': 'https://www.zhihu.com/api/v4/people/4d1c2c77bc7431c2a6006d154198e8b9',\n",
       "    'user_type': 'people',\n",
       "    'headline': '公众号「痴海」: 一起向上成长，成为一个厉害的人',\n",
       "    'badge': [],\n",
       "    'gender': 1,\n",
       "    'is_advertiser': False,\n",
       "    'is_privacy': False},\n",
       "   'url': 'https://www.zhihu.com/api/v4/answers/873825546',\n",
       "   'is_collapsed': False,\n",
       "   'created_time': 1572318426,\n",
       "   'updated_time': 1587220473,\n",
       "   'extras': '',\n",
       "   'is_copyable': False,\n",
       "   'relationship': {'upvoted_followees': []},\n",
       "   'ad_answer': None}],\n",
       " 'paging': {'is_end': False,\n",
       "  'is_start': True,\n",
       "  'next': 'https://www.zhihu.com/api/v4/questions/55493026/answers?limit=5&offset=5',\n",
       "  'previous': 'https://www.zhihu.com/api/v4/questions/55493026/answers?limit=5&offset=0',\n",
       "  'totals': 596}}"
      ]
     },
     "execution_count": 18,
     "metadata": {},
     "output_type": "execute_result"
    }
   ],
   "source": [
    "json.loads(response)"
   ]
  },
  {
   "cell_type": "code",
   "execution_count": 109,
   "metadata": {},
   "outputs": [
    {
     "data": {
      "text/plain": [
       "{'type': 'question',\n",
       " 'id': 55493026,\n",
       " 'title': '你们都是怎么学 Python 的？',\n",
       " 'question_type': 'normal',\n",
       " 'created': 1486390229,\n",
       " 'updated_time': 1582533957,\n",
       " 'url': 'https://www.zhihu.com/api/v4/questions/55493026',\n",
       " 'relationship': {}}"
      ]
     },
     "execution_count": 109,
     "metadata": {},
     "output_type": "execute_result"
    }
   ],
   "source": [
    "json.loads(response2)"
   ]
  },
  {
   "cell_type": "code",
   "execution_count": 112,
   "metadata": {},
   "outputs": [
    {
     "name": "stdout",
     "output_type": "stream",
     "text": [
      "問題發問時間 :  1486390229\n"
     ]
    }
   ],
   "source": [
    "data = json.loads(response)\n",
    "data2 = json.loads(response2)\n",
    "print('問題發問時間 : ',data2['created'])"
   ]
  },
  {
   "cell_type": "code",
   "execution_count": 116,
   "metadata": {},
   "outputs": [],
   "source": [
    "#for i in data['data']:\n",
    " #   print(i,'\\n')"
   ]
  },
  {
   "cell_type": "code",
   "execution_count": 114,
   "metadata": {},
   "outputs": [
    {
     "name": "stdout",
     "output_type": "stream",
     "text": [
      "每筆回答時間 :  1554085028 \n",
      "\n",
      "每筆回答時間 :  1572318426 \n",
      "\n"
     ]
    }
   ],
   "source": [
    "index = len(data['data'])\n",
    "count=1\n",
    "#print(index)\n",
    "for i in data['data']:\n",
    "    if count==1 or count==5:\n",
    "        print(\"每筆回答時間 : \",i['created_time'],'\\n')\n",
    "    count+=1"
   ]
  },
  {
   "cell_type": "code",
   "execution_count": null,
   "metadata": {},
   "outputs": [],
   "source": []
  }
 ],
 "metadata": {
  "kernelspec": {
   "display_name": "Python 3",
   "language": "python",
   "name": "python3"
  },
  "language_info": {
   "codemirror_mode": {
    "name": "ipython",
    "version": 3
   },
   "file_extension": ".py",
   "mimetype": "text/x-python",
   "name": "python",
   "nbconvert_exporter": "python",
   "pygments_lexer": "ipython3",
   "version": "3.7.6"
  }
 },
 "nbformat": 4,
 "nbformat_minor": 4
}
